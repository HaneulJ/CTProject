{
 "cells": [
  {
   "cell_type": "code",
   "execution_count": 3,
   "metadata": {},
   "outputs": [],
   "source": [
    "import selenium\n",
    "from selenium import webdriver\n",
    "from selenium.webdriver.common.keys import Keys\n",
    "import json\n",
    "import os\n",
    "\n",
    "\n",
    "class ImageCrawler(object):\n",
    "    def __init__(self, search_term, num_to_search, out_dir):\n",
    "        url = \"https://www.google.com/search?q=\" + search_term + \"&tbm=isch\"\n",
    "        browser = webdriver.Chrome(\"'C:/Temp/chromedriver'\")\n",
    "        browser.get(url)"
   ]
  },
  {
   "cell_type": "code",
   "execution_count": 9,
   "metadata": {},
   "outputs": [],
   "source": [
    "from selenium import webdriver\n",
    "from selenium.webdriver.common.keys import Keys \n",
    "\n",
    "browser = webdriver.Chrome(\"C:/Temp/chromedriver\")\n",
    "\n",
    "class ImageCrawler(object):\n",
    "    def __init__(self, search_term, num_to_search, out_dir):\n",
    "        url = \"https://www.google.com/search?q=\" + search_term + \"&tbm=isch\"\n",
    "        browser.get(url)\n",
    "\n"
   ]
  },
  {
   "cell_type": "code",
   "execution_count": 51,
   "metadata": {},
   "outputs": [],
   "source": [
    "from selenium import webdriver\n",
    "\n",
    "search_term = '마스크 사람'\n",
    "url = \"https://www.google.com/search?q=\" + search_term + \"&tbm=isch\"\n",
    "\n",
    "browser = webdriver.Chrome('C:/Temp/chromedriver.exe')\n",
    "browser.get(url)\n",
    "\n",
    "for i in range(200):\n",
    "    browser.execute_script('window.scrollBy(0,10000)')\n",
    "    \n",
    "for idx, el in enumerate(browser.find_elements_by_class_name(\"rg_i Q4LuWd\")):\n",
    "    el.get_screenshot_as_file(\"./img/\"+ str(idx) + \".png\")\n",
    "    browser.implicitly_wait(3)"
   ]
  },
  {
   "cell_type": "code",
   "execution_count": null,
   "metadata": {},
   "outputs": [],
   "source": [
    "first_list = ['마스크', '코로나 예방', '코로나']\n",
    "second_list = ['회사원', '얼굴', '착용 얼굴', '직장']\n",
    "\n",
    "for first in first_list:\n",
    "    for second in second_list:\n",
    "        new_query = first + \" \" + second\n",
    "        url = \"https://www.google.com/search?q=\" + new_query + \"&tbm=isch\"\n",
    "        browser.get(url)\n"
   ]
  },
  {
   "cell_type": "code",
   "execution_count": 19,
   "metadata": {},
   "outputs": [],
   "source": [
    "from urllib.request import urlopen\n",
    "from bs4 import BeautifulSoup as bs\n",
    "from urllib.parse import quote_plus"
   ]
  },
  {
   "cell_type": "code",
   "execution_count": null,
   "metadata": {},
   "outputs": [],
   "source": [
    "from urllib.request import urlopen\n",
    "from bs4 import BeautifulSoup as bs\n",
    "from urllib.parse import quote_plus\n",
    "\n",
    "baseUrl = 'https://www.google.com/search?q='\n",
    "plusUrl = input('검색어를 입력하세요: ' )\n",
    "plussUrl = \"&tbm=isch\"\n",
    "\n",
    "# 한글 검색 자동 변환\n",
    "url = baseUrl + quote_plus(plusUrl) + plussUrl\n",
    "html = urlopen(url)\n",
    "soup = bs(html, \"html.parser\")\n",
    "img = soup.find_all(class_='_img')\n",
    "\n",
    "n = 1\n",
    "for i in img:\n",
    "    imgUrl = i['data-source']\n",
    "    with urlopen(imgUrl) as f:\n",
    "        with open('./img/' + plusUrl + str(n)+'.jpg','wb') as h: # w - write b - binary\n",
    "            img = f.read()\n",
    "            h.write(img)\n",
    "    n += 1\n",
    "print('다운로드 완료')"
   ]
  },
  {
   "cell_type": "code",
   "execution_count": 35,
   "metadata": {},
   "outputs": [],
   "source": [
    "import os\n",
    "import time\n",
    "import socket\n",
    "\n",
    "from urllib.request import urlretrieve\n",
    "from urllib.error import HTTPError, URLError\n",
    "from selenium import webdriver\n",
    "from selenium.common.exceptions import ElementClickInterceptedException, NoSuchElementException, \\\n",
    "    ElementNotInteractableException\n",
    "from PIL import Image\n"
   ]
  },
  {
   "cell_type": "code",
   "execution_count": null,
   "metadata": {},
   "outputs": [],
   "source": []
  }
 ],
 "metadata": {
  "kernelspec": {
   "display_name": "Python 3",
   "language": "python",
   "name": "python3"
  },
  "language_info": {
   "codemirror_mode": {
    "name": "ipython",
    "version": 3
   },
   "file_extension": ".py",
   "mimetype": "text/x-python",
   "name": "python",
   "nbconvert_exporter": "python",
   "pygments_lexer": "ipython3",
   "version": "3.8.5"
  }
 },
 "nbformat": 4,
 "nbformat_minor": 4
}
